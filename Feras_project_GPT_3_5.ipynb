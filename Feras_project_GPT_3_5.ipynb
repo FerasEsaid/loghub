{
  "nbformat": 4,
  "nbformat_minor": 0,
  "metadata": {
    "colab": {
      "provenance": [],
      "authorship_tag": "ABX9TyOWNoFRE/8qX9AOchEHOvTK",
      "include_colab_link": true
    },
    "kernelspec": {
      "name": "python3",
      "display_name": "Python 3"
    },
    "language_info": {
      "name": "python"
    }
  },
  "cells": [
    {
      "cell_type": "markdown",
      "metadata": {
        "id": "view-in-github",
        "colab_type": "text"
      },
      "source": [
        "<a href=\"https://colab.research.google.com/github/FerasEsaid/loghub/blob/master/Feras_project_GPT_3_5.ipynb\" target=\"_parent\"><img src=\"https://colab.research.google.com/assets/colab-badge.svg\" alt=\"Open In Colab\"/></a>"
      ]
    },
    {
      "cell_type": "code",
      "source": [
        "##### يقوم بتحويل الملف النصي الى شكل JSONL\n",
        "import json\n",
        "\n",
        "def convert_txt_to_jsonl(txt_file_path, jsonl_file_path):\n",
        "    \"\"\"\n",
        "    Converts a .txt file containing JSON records to a .jsonl file.\n",
        "\n",
        "    Args:\n",
        "        txt_file_path (str): The path to the input .txt file.\n",
        "        jsonl_file_path (str): The path to the output .jsonl file.\n",
        "    \"\"\"\n",
        "    try:\n",
        "        with open(txt_file_path, 'r', encoding='utf-8') as txt_file, open(jsonl_file_path, 'w', encoding='utf-8') as jsonl_file:\n",
        "            for line in txt_file:\n",
        "                # Attempt to load the line as a JSON object\n",
        "                try:\n",
        "                    json_object = json.loads(line.strip())  # Remove leading/trailing whitespace\n",
        "                    jsonl_file.write(json.dumps(json_object) + '\\n')  # Write as JSONL\n",
        "                except json.JSONDecodeError as e:\n",
        "                    print(f\"Warning: Invalid JSON on line: {line.strip()}. Error: {e}\")\n",
        "                    # Optionally, handle invalid lines (e.g., skip, log, etc.)\n",
        "        print(f\"Conversion successful: {txt_file_path} -> {jsonl_file_path}\")\n",
        "\n",
        "    except FileNotFoundError:\n",
        "        print(f\"Error: Input file not found: {txt_file_path}\")\n",
        "    except Exception as e:\n",
        "        print(f\"An error occurred: {e}\")\n",
        "\n",
        "# Example usage:\n",
        "txt_file_path = '/content/Data/Validation_project.txt'\n",
        "jsonl_file_path = '/content/Data/Validation_project_filtered.jsonl'\n",
        "\n",
        "convert_txt_to_jsonl(txt_file_path, jsonl_file_path)"
      ],
      "metadata": {
        "colab": {
          "base_uri": "https://localhost:8080/"
        },
        "id": "TYAtBIq3R8Qu",
        "outputId": "d4a8483b-c8e3-43cd-8b17-cc7c0ab45446"
      },
      "execution_count": 13,
      "outputs": [
        {
          "output_type": "stream",
          "name": "stdout",
          "text": [
            "Conversion successful: /content/Data/Validation_project.txt -> /content/Data/Validation_project_filtered.jsonl\n"
          ]
        }
      ]
    },
    {
      "cell_type": "code",
      "source": [
        "import json\n",
        "import os\n",
        "\n",
        "def check_jsonl_format(file_path):\n",
        "    with open(file_path, \"r\", encoding=\"utf-8\") as f:\n",
        "        for i, line in enumerate(f, 1):\n",
        "            try:\n",
        "                json.loads(line)\n",
        "            except json.JSONDecodeError as e:\n",
        "                print(f\"error in line {i}: {e}\")\n",
        "                return False\n",
        "    print(\"file is vaild\")\n",
        "    return True\n",
        "\n",
        "check_jsonl_format(\"/content/Data/Training_project_filtered.jsonl\")\n",
        "##check_jsonl_format(\"./data/filtered_val.jsonl\")\n",
        "\n",
        "\n",
        "\n"
      ],
      "metadata": {
        "colab": {
          "base_uri": "https://localhost:8080/"
        },
        "id": "-WrKlpnSQsa9",
        "outputId": "764cf6ad-be2f-4cee-bfb6-d7b1529a3f12"
      },
      "execution_count": 10,
      "outputs": [
        {
          "output_type": "stream",
          "name": "stdout",
          "text": [
            "file is vaild\n"
          ]
        },
        {
          "output_type": "execute_result",
          "data": {
            "text/plain": [
              "True"
            ]
          },
          "metadata": {},
          "execution_count": 10
        }
      ]
    },
    {
      "cell_type": "code",
      "source": [
        "# @title\n",
        "import json\n",
        "\n",
        "file_path = \"/content/Data/Validation_project_filtered.jsonl\"\n",
        "\n",
        "with open(file_path, \"r\", encoding=\"utf-8\") as f:\n",
        "    for i, line in enumerate(f, start=1):\n",
        "        try:\n",
        "            json.loads(line)  # Try parsing each line as JSON\n",
        "        except json.JSONDecodeError as e:\n",
        "            print(f\"Error on line {i}: {e}\")\n",
        "            break\n",
        "    else:\n",
        "        print(\"JSONL file is valid!\")\n"
      ],
      "metadata": {
        "colab": {
          "base_uri": "https://localhost:8080/"
        },
        "id": "tg9JZLR2Q5gs",
        "outputId": "869d9a75-e803-467f-c288-bee321779897"
      },
      "execution_count": 14,
      "outputs": [
        {
          "output_type": "stream",
          "name": "stdout",
          "text": [
            "JSONL file is valid!\n"
          ]
        }
      ]
    },
    {
      "cell_type": "code",
      "source": [
        "import json\n",
        "import os\n",
        "\n",
        "def check_jsonl_format(file_path):\n",
        "    with open(file_path, \"r\", encoding=\"utf-8\") as f:\n",
        "        for i, line in enumerate(f, 1):\n",
        "            try:\n",
        "                json.loads(line)\n",
        "            except json.JSONDecodeError as e:\n",
        "                print(f\"error in line {i}: {e}\")\n",
        "                return False\n",
        "    print(\"file is vaild\")\n",
        "    return True\n",
        "\n",
        "check_jsonl_format(\"/content/Data/Training_project_filtered.jsonl\")\n",
        "check_jsonl_format(\"/content/Data/Validation_project_filtered.jsonl\")\n",
        "\n",
        "\n",
        "def check_file_size(file_path):\n",
        "    size_mb = os.path.getsize(file_path) / (1024 * 1024)\n",
        "    print(f\"File size{file_path}: {size_mb:.2f}MB\")\n",
        "\n",
        "check_file_size(\"/content/Data/Training_project_filtered.jsonl\")\n",
        "check_file_size(\"/content/Data/Validation_project_filtered.jsonl\")\n"
      ],
      "metadata": {
        "colab": {
          "base_uri": "https://localhost:8080/"
        },
        "id": "DcR4eNcvVFtO",
        "outputId": "a2b16dde-e261-4182-97c8-3d330bb1fb18"
      },
      "execution_count": 15,
      "outputs": [
        {
          "output_type": "stream",
          "name": "stdout",
          "text": [
            "file is vaild\n",
            "file is vaild\n",
            "File size/content/Data/Training_project_filtered.jsonl: 0.12MB\n",
            "File size/content/Data/Validation_project_filtered.jsonl: 0.02MB\n"
          ]
        }
      ]
    }
  ]
}